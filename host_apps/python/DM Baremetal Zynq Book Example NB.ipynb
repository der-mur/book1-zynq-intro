{
 "cells": [
  {
   "cell_type": "code",
   "execution_count": null,
   "metadata": {},
   "outputs": [],
   "source": [
    "import serial\n",
    "import time\n",
    "from struct import *"
   ]
  },
  {
   "cell_type": "code",
   "execution_count": null,
   "metadata": {},
   "outputs": [],
   "source": [
    "#------------------------------------------------------------#\n",
    "# Base function to open the serial port connection\n",
    "#------------------------------------------------------------#\n",
    "def open_serial_port(port, baudrate, timeout):\n",
    "    ser = serial.Serial()\n",
    "    ser.port = port    \n",
    "    ser.baudrate = baudrate\n",
    "    ser.timeout = timeout\n",
    "    ser.open()\n",
    "\n",
    "    if(ser.is_open == True):\n",
    "        print(\"=== Connection open ===\")\n",
    "        print(\"COM Port = {}\".format(ser.port))\n",
    "        print(\"Baudrate = {}\".format(ser.baudrate))\n",
    "        print(\"Data bits = {}\".format(ser.bytesize))\n",
    "        print(\"Parity = {}\".format(ser.parity))\n",
    "        print(\"Stop bits = {}\".format(ser.stopbits))    \n",
    "    else: \n",
    "        print(\"Connection not open!!!\")\n",
    "        \n",
    "    return ser\n",
    "\n",
    "\n",
    "#------------------------------------------------------------#\n",
    "# Base function to create the 10-byte command string\n",
    "#------------------------------------------------------------#\n",
    "def encode_cmd(cmd, field1, field2):\n",
    "    packed_cmd = pack('>H',cmd)\n",
    "    packed_address = pack('>L', field1)\n",
    "    packed_wrdata = pack('>L', field2) \n",
    "    \n",
    "    cmd_str = packed_cmd + packed_address + packed_wrdata\n",
    "    return cmd_str\n",
    "\n",
    "\n",
    "#------------------------------------------------------------#\n",
    "# Base function to execute a command and return a response\n",
    "#------------------------------------------------------------#\n",
    "def execute_cmd_str(cmd_str):\n",
    "      \n",
    "    ser.write(cmd_str)\n",
    "    time.sleep(.1)\n",
    "\n",
    "    nchars = ser.in_waiting\n",
    "\n",
    "    if nchars != 0:\n",
    "        response = ser.read(nchars)    \n",
    "    else:\n",
    "        response = 0\n",
    "        print('read buffer empty') \n",
    "    \n",
    "    return response\n",
    "\n",
    "\n",
    "#------------------------------------------------------------#\n",
    "# Base function to decode the response and convert it to a u32\n",
    "#------------------------------------------------------------#\n",
    "def decode_response(response):    \n",
    "   \n",
    "    response_int = int.from_bytes(response, byteorder='big') \n",
    "    return response_int\n",
    "\n",
    "\n",
    "#------------------------------------------------------------#\n",
    "# Group the three base functions above into a single function\n",
    "#------------------------------------------------------------#\n",
    "def execute_cmd(cmd, field1, field2):\n",
    "    \n",
    "    cmd_str = encode_cmd(cmd, field1, field2) \n",
    "    response = execute_cmd_str(cmd_str)\n",
    "    response_int = decode_response(response)\n",
    "    return response_int\n",
    "\n",
    "\n",
    "#------------------------------------------------------------#\n",
    "# Base function to close the serial port connection\n",
    "#------------------------------------------------------------#\n",
    "def close_serial_port(ser):    \n",
    "    ser.close()\n",
    "    if(ser.is_open == False):\n",
    "        print(\"Connection closed\")\n",
    "    else: \n",
    "        print(\"Connection not closed!!!\")\n",
    "\n",
    "\n",
    "\n",
    "\n",
    "\n",
    "    \n",
    "#============================================================#\n",
    "# ==== COMMANDS ====\n",
    "#============================================================#\n",
    "\n",
    "# ==== MEMORY ====\n",
    "#------------------------------------------------------------#\n",
    "# Function to execute a 32-bit memory write\n",
    "#------------------------------------------------------------#\n",
    "def execute_mem_write(addr, data):\n",
    "    cmd = 0x00D3\n",
    "    field1 = addr\n",
    "    field2 = data\n",
    "    \n",
    "    response = execute_cmd(cmd, field1, field2)       \n",
    "    return response\n",
    "\n",
    "\n",
    "#------------------------------------------------------------#\n",
    "# Function to execute a 32-bit memory read\n",
    "#------------------------------------------------------------#\n",
    "def execute_mem_read(addr):\n",
    "    cmd = 0x00D4\n",
    "    field1 = addr\n",
    "    field2 = 0x00000000\n",
    "    \n",
    "    read_data = execute_cmd(cmd, field1, field2)       \n",
    "    return read_data\n",
    "\n",
    "\n",
    "# ==== TEST UNKNOWN COMMAND ====\n",
    "#------------------------------------------------------------#\n",
    "# Function to test the response for an unknown command\n",
    "#------------------------------------------------------------#\n",
    "def execute_unknown_cmd():\n",
    "    cmd = 0x1234\n",
    "    field1 = 0x00000000\n",
    "    field2 = 0x00000000\n",
    "    \n",
    "    response = execute_cmd(cmd, field1, field2)       \n",
    "    return response\n",
    "\n",
    "\n",
    "\n",
    "\n",
    "\n",
    "# ==== PMOD ACL ====\n",
    "#------------------------------------------------------------#\n",
    "# Function to execute PMOD_ACL_WRITE_BYTE\n",
    "#------------------------------------------------------------#\n",
    "def execute_pmodacl_write_byte(addr, data):\n",
    "    cmd = 0x00E0\n",
    "    field1 = addr\n",
    "    field2 = data\n",
    "    \n",
    "    response = execute_cmd(cmd, field1, field2)       \n",
    "    return response\n",
    "\n",
    "\n",
    "#------------------------------------------------------------#\n",
    "# Function to execute PMOD_ACL_READ_BYTE\n",
    "#------------------------------------------------------------#\n",
    "def execute_pmodacl_read_byte(addr):\n",
    "    cmd = 0x00E1\n",
    "    field1 = addr\n",
    "    field2 = 0x00000000\n",
    "    \n",
    "    response = execute_cmd(cmd, field1, field2)       \n",
    "    return response\n",
    "\n",
    "\n",
    "#------------------------------------------------------------#\n",
    "# Function to execute PMOD_ACL_READ_INTR_STATUS\n",
    "#------------------------------------------------------------#\n",
    "def execute_pmodacl_read_intr_status():\n",
    "    cmd = 0x00E2\n",
    "    field1 = 0x00000000\n",
    "    field2 = 0x00000000\n",
    "    \n",
    "    response = execute_cmd(cmd, field1, field2)       \n",
    "    return response\n",
    "\n",
    "\n",
    "#------------------------------------------------------------#\n",
    "# Function to execute PMOD_ACL_READ_XYDATA\n",
    "#------------------------------------------------------------#\n",
    "def execute_pmodacl_read_xydata():\n",
    "    cmd = 0x00E3\n",
    "    field1 = 0x00000000\n",
    "    field2 = 0x00000000\n",
    "    \n",
    "    response = execute_cmd(cmd, field1, field2)       \n",
    "    return response\n",
    "\n",
    "\n",
    "\n",
    "#------------------------------------------------------------#\n",
    "# Function to clear LED1 and LED2 on platform\n",
    "#------------------------------------------------------------#\n",
    "def execute_clear_leds():\n",
    "    cmd = 0x00F0\n",
    "    field1 = 0x00000000\n",
    "    field2 = 0x00000000\n",
    "    \n",
    "    response = execute_cmd(cmd, field1, field2)       \n",
    "    return response"
   ]
  },
  {
   "cell_type": "code",
   "execution_count": null,
   "metadata": {
    "scrolled": true
   },
   "outputs": [],
   "source": [
    "ser = open_serial_port('COM6', 115200, 2000)"
   ]
  },
  {
   "cell_type": "code",
   "execution_count": null,
   "metadata": {
    "scrolled": true
   },
   "outputs": [],
   "source": [
    "response = execute_cmd(0x00D3, 0x04000000, 0x12345678)\n",
    "print(\"Response = 0x{0:0{1}X}\".format(response, 8))"
   ]
  },
  {
   "cell_type": "code",
   "execution_count": null,
   "metadata": {
    "scrolled": false
   },
   "outputs": [],
   "source": [
    "response = execute_cmd(0x00D4, 0x04000000, 0x00000000)\n",
    "print(\"Response = 0x{0:0{1}X}\".format(response, 8))"
   ]
  },
  {
   "cell_type": "code",
   "execution_count": null,
   "metadata": {
    "scrolled": true
   },
   "outputs": [],
   "source": [
    "response = execute_cmd(0x00CF, 0x04000000, 0x00000000)\n",
    "print(\"Response = 0x{0:0{1}X}\".format(response, 8))"
   ]
  },
  {
   "cell_type": "code",
   "execution_count": null,
   "metadata": {},
   "outputs": [],
   "source": [
    "response = execute_mem_write(0x04000004, 0xABCD1234)\n",
    "print(\"Response = 0x{0:0{1}X}\".format(response, 8))"
   ]
  },
  {
   "cell_type": "code",
   "execution_count": null,
   "metadata": {
    "scrolled": false
   },
   "outputs": [],
   "source": [
    "response = execute_mem_read(0x04000004)\n",
    "print(\"Response = 0x{0:0{1}X}\".format(response, 8))"
   ]
  },
  {
   "cell_type": "code",
   "execution_count": null,
   "metadata": {
    "scrolled": false
   },
   "outputs": [],
   "source": [
    "response = execute_clear_leds()\n",
    "print(\"Response = 0x{0:0{1}X}\".format(response, 8))"
   ]
  },
  {
   "cell_type": "code",
   "execution_count": null,
   "metadata": {
    "scrolled": false
   },
   "outputs": [],
   "source": [
    "addr = 0x02000014 \n",
    "data = 0xaabbccdd\n",
    "\n",
    "wr_response = execute_mem_write(addr, data)\n",
    "rd_response = execute_mem_read(addr)\n",
    "unk_response = execute_unknown_cmd()\n",
    "\n",
    "print(\"Write response = 0x{0:0{1}X}\".format(wr_response, 8))\n",
    "print(\"Read data = 0x{0:0{1}X}\".format(rd_response, 8))\n",
    "print(\"Unknown command response = 0x{0:0{1}X}\".format(unk_response, 8))"
   ]
  },
  {
   "cell_type": "code",
   "execution_count": null,
   "metadata": {},
   "outputs": [],
   "source": [
    "addr_list = [0x02000000, 0x02000004, 0x02000008, 0x0200000C]\n",
    "read_data_list = []\n",
    "\n",
    "for i in addr_list:\n",
    "    read_data = execute_mem_read(i)\n",
    "    read_data_list.insert(i, read_data)\n",
    "    \n",
    "for i in read_data_list:\n",
    "    print(\"Read data = 0x{0:0{1}X}\".format(i, 8))    "
   ]
  },
  {
   "cell_type": "code",
   "execution_count": null,
   "metadata": {},
   "outputs": [],
   "source": [
    "pmod_acl_reg_data = execute_pmodacl_read_byte(acl_reg_addr)\n",
    "print(\"Read data = 0x{0:0{1}X}\".format(pmod_acl_reg_data, 8))"
   ]
  },
  {
   "cell_type": "code",
   "execution_count": null,
   "metadata": {
    "scrolled": true
   },
   "outputs": [],
   "source": [
    "intr_status = execute_pmodacl_read_intr_status()\n",
    "print(\"Read response = 0x{0:0{1}X}\".format(intr_status, 8))"
   ]
  },
  {
   "cell_type": "code",
   "execution_count": null,
   "metadata": {
    "scrolled": true
   },
   "outputs": [],
   "source": [
    "xy_data = execute_pmodacl_read_xydata()\n",
    "print(\"Write response = 0x{0:0{1}X}\".format(xy_data, 8))"
   ]
  },
  {
   "cell_type": "code",
   "execution_count": null,
   "metadata": {},
   "outputs": [],
   "source": [
    "resp = execute_clear_leds()\n",
    "print(\"Write response = 0x{0:0{1}X}\".format(resp, 8))"
   ]
  },
  {
   "cell_type": "code",
   "execution_count": null,
   "metadata": {
    "scrolled": true
   },
   "outputs": [],
   "source": [
    "close_serial_port(ser)"
   ]
  }
 ],
 "metadata": {
  "kernelspec": {
   "display_name": "Python 3",
   "language": "python",
   "name": "python3"
  },
  "language_info": {
   "codemirror_mode": {
    "name": "ipython",
    "version": 3
   },
   "file_extension": ".py",
   "mimetype": "text/x-python",
   "name": "python",
   "nbconvert_exporter": "python",
   "pygments_lexer": "ipython3",
   "version": "3.7.3"
  }
 },
 "nbformat": 4,
 "nbformat_minor": 2
}
